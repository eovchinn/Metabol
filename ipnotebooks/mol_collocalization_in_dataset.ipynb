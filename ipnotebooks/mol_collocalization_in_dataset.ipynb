{
 "cells": [
  {
   "cell_type": "code",
   "execution_count": 6,
   "metadata": {
    "collapsed": false
   },
   "outputs": [
    {
     "name": "stdout",
     "output_type": "stream",
     "text": [
      "Number of pixels in dataset = 25781\n",
      "Ion corpus generated, size =  222\n",
      "Ion similarity computed\n"
     ]
    }
   ],
   "source": [
    "# COMPUTES IONS MOST SIMILAR TO A GIVEN ION BASED ON THEIR WEIGHT (INTENSITY, TFIDF, LSI) IN EACH REGION\n",
    "\n",
    "# SET DATASET NAME\n",
    "ds_name = 'wb xenograft in situ metabolomics test - rms_corrected'\n",
    "\n",
    "# model param : tfidf or lsi or corpus\n",
    "model = \"corpus\"\n",
    "# fdr threshold <50%, DO NOT CHANGE this parameter although it means nothing!\n",
    "threshold = 50\n",
    "\n",
    "import os\n",
    "from os import path\n",
    "import pandas as pd\n",
    "import gensim\n",
    "from gensim import corpora\n",
    "import pickle\n",
    "\n",
    "base_path = '/opt/data/'\n",
    "ann_path = path.join(base_path, 'pixel-annot-export')\n",
    "cor_path = path.join(base_path, 'pixel-corpora/pixel_'+model+'.mm')\n",
    "map_path = path.join(base_path, 'pixel-ind2ord')\n",
    "\n",
    "ds_df_path = path.join(ann_path, 'ds_df.msgpack')\n",
    "ds_df = pd.read_msgpack(ds_df_path)\n",
    "ds_ind = ds_df[ds_df['name'] == ds_name].index.tolist()[0]\n",
    "\n",
    "pind2ord_path = path.join(map_path, '{}.pkl'.format(ds_ind))\n",
    "with open(pind2ord_path, 'rb') as f: pind2ord = pickle.load(f)\n",
    "\n",
    "pixel_df_path = path.join(ann_path, 'pixel_df_list/{}.msgpack'.format(ds_ind))\n",
    "pixel_df = pd.read_msgpack(pixel_df_path)\n",
    "pixel_ids = [pind2ord[i] for i in pixel_df.p_ind.unique() if i in pind2ord]\n",
    "\n",
    "pixel_corpus = gensim.corpora.MmCorpus(cor_path)\n",
    "\n",
    "print(\"Number of pixels in dataset = %d\" % (len(pixel_ids)))\n",
    "ion_counter = 0\n",
    "ion_idx = {}\n",
    "ion_corpus = []\n",
    "for pid in pixel_ids:\n",
    "    for (ion,val) in pixel_corpus[pid]:\n",
    "        if not ion in ion_idx: \n",
    "            ion_idx[ion] = ion_counter\n",
    "            ion_corpus.append([])\n",
    "            ion_counter+=1\n",
    "        ion_corpus[ion_idx[ion]].append((pid,val))\n",
    "print(\"Ion corpus generated, size = \", len(ion_corpus))\n",
    "\n",
    "from gensim import similarities\n",
    "from gensim.similarities import MatrixSimilarity\n",
    "from gensim import models\n",
    "\n",
    "## tfidf, doesn't shown advantages compared to intensities, but slower\n",
    "#tfidf_model = gensim.models.TfidfModel(ion_corpus)\n",
    "#tfidf_corpus = tfidf_model[ion_corpus]\n",
    "#sim_index = gensim.similarities.docsim.MatrixSimilarity(tfidf_corpus)\n",
    "\n",
    "# intensities\n",
    "sim_index = gensim.similarities.docsim.MatrixSimilarity(ion_corpus)\n",
    "print('Ion similarity computed')"
   ]
  },
  {
   "cell_type": "code",
   "execution_count": 7,
   "metadata": {
    "collapsed": false
   },
   "outputs": [
    {
     "name": "stderr",
     "output_type": "stream",
     "text": [
      "/home/ec2-user/anaconda3/lib/python3.6/site-packages/ipykernel/__main__.py:7: UserWarning: Boolean Series key will be reindexed to match DataFrame index.\n"
     ]
    },
    {
     "ename": "KeyError",
     "evalue": "43736",
     "output_type": "error",
     "traceback": [
      "\u001b[0;31m---------------------------------------------------------------------------\u001b[0m",
      "\u001b[0;31mKeyError\u001b[0m                                  Traceback (most recent call last)",
      "\u001b[0;32m<ipython-input-7-94e7643c4c1d>\u001b[0m in \u001b[0;36m<module>\u001b[0;34m()\u001b[0m\n\u001b[1;32m      7\u001b[0m \u001b[0mion_ind\u001b[0m \u001b[0;34m=\u001b[0m \u001b[0mion_df\u001b[0m\u001b[0;34m[\u001b[0m\u001b[0mion_df\u001b[0m\u001b[0;34m.\u001b[0m\u001b[0mformula\u001b[0m \u001b[0;34m==\u001b[0m \u001b[0msf\u001b[0m\u001b[0;34m]\u001b[0m\u001b[0;34m[\u001b[0m\u001b[0mion_df\u001b[0m\u001b[0;34m.\u001b[0m\u001b[0madduct\u001b[0m \u001b[0;34m==\u001b[0m \u001b[0madduct\u001b[0m\u001b[0;34m]\u001b[0m\u001b[0;34m.\u001b[0m\u001b[0mindex\u001b[0m\u001b[0;34m.\u001b[0m\u001b[0mtolist\u001b[0m\u001b[0;34m(\u001b[0m\u001b[0;34m)\u001b[0m\u001b[0;34m[\u001b[0m\u001b[0;36m0\u001b[0m\u001b[0;34m]\u001b[0m\u001b[0;34m\u001b[0m\u001b[0m\n\u001b[1;32m      8\u001b[0m \u001b[0;34m\u001b[0m\u001b[0m\n\u001b[0;32m----> 9\u001b[0;31m \u001b[0msim_matrix\u001b[0m \u001b[0;34m=\u001b[0m \u001b[0msim_index\u001b[0m\u001b[0;34m[\u001b[0m\u001b[0mion_corpus\u001b[0m\u001b[0;34m[\u001b[0m\u001b[0mion_idx\u001b[0m\u001b[0;34m[\u001b[0m\u001b[0mion_ind\u001b[0m\u001b[0;34m]\u001b[0m\u001b[0;34m]\u001b[0m\u001b[0;34m]\u001b[0m\u001b[0;34m\u001b[0m\u001b[0m\n\u001b[0m\u001b[1;32m     10\u001b[0m \u001b[0;34m\u001b[0m\u001b[0m\n\u001b[1;32m     11\u001b[0m \u001b[0mion_sim\u001b[0m \u001b[0;34m=\u001b[0m \u001b[0;34m[\u001b[0m\u001b[0;34m(\u001b[0m\u001b[0mindex\u001b[0m\u001b[0;34m,\u001b[0m \u001b[0mrow\u001b[0m\u001b[0;34m.\u001b[0m\u001b[0mformula\u001b[0m\u001b[0;34m+\u001b[0m\u001b[0mrow\u001b[0m\u001b[0;34m.\u001b[0m\u001b[0madduct\u001b[0m\u001b[0;34m,\u001b[0m \u001b[0msim_matrix\u001b[0m\u001b[0;34m[\u001b[0m\u001b[0mion_idx\u001b[0m\u001b[0;34m[\u001b[0m\u001b[0mindex\u001b[0m\u001b[0;34m]\u001b[0m\u001b[0;34m]\u001b[0m\u001b[0;34m)\u001b[0m \u001b[0;32mfor\u001b[0m \u001b[0mindex\u001b[0m\u001b[0;34m,\u001b[0m \u001b[0mrow\u001b[0m \u001b[0;32min\u001b[0m \u001b[0mion_df\u001b[0m\u001b[0;34m.\u001b[0m\u001b[0miterrows\u001b[0m\u001b[0;34m(\u001b[0m\u001b[0;34m)\u001b[0m \u001b[0;32mif\u001b[0m \u001b[0mindex\u001b[0m \u001b[0;32min\u001b[0m \u001b[0mion_idx\u001b[0m\u001b[0;34m]\u001b[0m\u001b[0;34m\u001b[0m\u001b[0m\n",
      "\u001b[0;31mKeyError\u001b[0m: 43736"
     ]
    }
   ],
   "source": [
    "# SET SUMFORMULA NAME, ADDUCT\n",
    "sf = 'C6H9NO5'\n",
    "adduct = '+Na'\n",
    "\n",
    "ion_df_path = path.join(ann_path, 'ion_df.msgpack')\n",
    "ion_df = pd.read_msgpack(ion_df_path)\n",
    "ion_ind = ion_df[ion_df.formula == sf][ion_df.adduct == adduct].index.tolist()[0]\n",
    "\n",
    "sim_matrix = sim_index[ion_corpus[ion_idx[ion_ind]]]\n",
    "                    \n",
    "ion_sim = [(index, row.formula+row.adduct, sim_matrix[ion_idx[index]]) for index, row in ion_df.iterrows() if index in ion_idx]\n",
    "ion_sim.sort(key=lambda x: x[2],reverse=True)\n"
   ]
  },
  {
   "cell_type": "code",
   "execution_count": null,
   "metadata": {
    "collapsed": false
   },
   "outputs": [],
   "source": [
    "# NUMBER OF MOST SIMILAR IONS\n",
    "n = 40\n",
    "# quantile param\n",
    "q = 99.9\n",
    "\n",
    "%matplotlib inline\n",
    "import matplotlib.pyplot as plt\n",
    "import numpy as np\n",
    "\n",
    "def hotspot_removal(img):\n",
    "    perc99_v = np.percentile(img, q=99.9)\n",
    "    img[img > perc99_v] = perc99_v\n",
    "    return img\n",
    "\n",
    "counter = 0\n",
    "csv_ions = []\n",
    "for (ion_ind, ion_name, value) in ion_sim:\n",
    "    if counter == n: break\n",
    "    counter+=1\n",
    "    print('%s %s: %f' % (ion_df.at[ion_ind,'formula'], ion_df.at[ion_ind,'adduct'], value))\n",
    "    csv_ions.append('%s,%s,%f' % (ion_df.at[ion_ind,'formula'], ion_df.at[ion_ind,'adduct'], value))\n",
    "    \n",
    "    ion_sub_df = pixel_df[pixel_df.ion_ind == ion_ind]\n",
    "    \n",
    "    max_x = pixel_df['x'].max()\n",
    "    max_y = pixel_df['y'].max()\n",
    "    arr = np.zeros([max_x+1, max_y+1])\n",
    "\n",
    "    for index, row in ion_sub_df.iterrows():\n",
    "        arr[row['x'].astype(np.int64)][row['y'].astype(np.int64)] = row['int']\n",
    "        \n",
    "    arr = np.rot90(arr, 1)\n",
    "    arr = hotspot_removal(arr)\n",
    "    plt.pcolormesh(arr,cmap='viridis')\n",
    "    plt.axes().set_aspect('equal', 'datalim')\n",
    "    plt.axes().axis('off')\n",
    "    plt.show()"
   ]
  },
  {
   "cell_type": "code",
   "execution_count": null,
   "metadata": {
    "collapsed": false
   },
   "outputs": [],
   "source": [
    "for e in csv_ions: print(e)"
   ]
  },
  {
   "cell_type": "code",
   "execution_count": null,
   "metadata": {
    "collapsed": true
   },
   "outputs": [],
   "source": []
  }
 ],
 "metadata": {
  "kernelspec": {
   "display_name": "Python 3",
   "language": "python",
   "name": "python3"
  },
  "language_info": {
   "codemirror_mode": {
    "name": "ipython",
    "version": 3
   },
   "file_extension": ".py",
   "mimetype": "text/x-python",
   "name": "python",
   "nbconvert_exporter": "python",
   "pygments_lexer": "ipython3",
   "version": "3.6.0"
  }
 },
 "nbformat": 4,
 "nbformat_minor": 2
}
