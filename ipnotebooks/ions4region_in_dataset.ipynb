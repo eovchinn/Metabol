{
 "cells": [
  {
   "cell_type": "code",
   "execution_count": 8,
   "metadata": {
    "collapsed": false,
    "deletable": true,
    "editable": true
   },
   "outputs": [
    {
     "data": {
      "image/png": "[encoded data removed]",
      "text/plain": [
       "<matplotlib.figure.Figure at 0x7f373f8fae48>"
      ]
     },
     "metadata": {},
     "output_type": "display_data"
    }
   ],
   "source": [
    "# SET SUMFORMULA NAME, ADDUCT, DATASET for selecting the region\n",
    "sf_name = 'C18H34O4'\n",
    "add_name = '-H'\n",
    "ds_name = 'AstraZeneca//rat testis 65um'\n",
    "\n",
    "# quantile param\n",
    "q = 90.\n",
    "# ion intensity threshold param (-1 = above quantile)\n",
    "i = 300000\n",
    "\n",
    "import os\n",
    "# base dir\n",
    "base_dir = '/home/katya/Projects/Metabol/'\n",
    "\n",
    "c_file = os.path.join(base_dir,'corpora/pixel_corpus.mm')\n",
    "\n",
    "pix_ann_dir = os.path.join(base_dir,'pixel-annotations/45_selected/')\n",
    "\n",
    "sf_file = os.path.join(pix_ann_dir,'sf_df.msgpack')\n",
    "dp_file = os.path.join(pix_ann_dir,'ds_pix_cord.msgpack')\n",
    "dsf_file = os.path.join(pix_ann_dir,'ds_ion_int.msgpack')\n",
    "\n",
    "import sys  \n",
    "sys.path.append(base_dir)\n",
    "\n",
    "import select_region\n",
    "from select_region import sfname2index\n",
    "\n",
    "ion_id = sfname2index(sf_file, sf_name, add_name)\n",
    "\n",
    "from datetime import datetime\n",
    "from select_region import select_region, viz_region\n",
    "\n",
    "pixel_ids = select_region(dsf_file, ds_name, ion_id, q, i)\n",
    "viz_region(dp_file, pixel_ids, ds_name, sf_name+' '+add_name, None)"
   ]
  },
  {
   "cell_type": "code",
   "execution_count": 13,
   "metadata": {
    "collapsed": false,
    "deletable": true,
    "editable": true
   },
   "outputs": [
    {
     "name": "stdout",
     "output_type": "stream",
     "text": [
      "(12288, 0.0022746213718909734)\n"
     ]
    }
   ],
   "source": [
    "import gensim\n",
    "from gensim import corpora\n",
    "from gensim import models\n",
    "import numpy\n",
    "\n",
    "corpus = gensim.corpora.MmCorpus(c_file)\n",
    "\n",
    "ions2values = {}\n",
    "for pix_id in pixel_ids:\n",
    "    for (ion_id,value) in corpus[pix_id]:\n",
    "        if not ion_id in ions2values: ions2values[ion_id] = []\n",
    "        ions2values[ion_id].append(value)\n",
    "\n",
    "region_corpus = []\n",
    "for ion_id in ions2values:\n",
    "    region_corpus.append((ion_id, numpy.mean(ions2values[ion_id])))\n",
    "\n",
    "new_corpus = []\n",
    "import pandas as pd\n",
    "dp_iterator = pd.read_msgpack(dp_file, iterator = True)\n",
    "counter = 0\n",
    "for name, df in dp_iterator:\n",
    "    if name == ds_name:\n",
    "        max_x = df['x'].max()\n",
    "        max_y = df['y'].max()\n",
    "        for ir in df.itertuples():\n",
    "            if ir[0] not in pixel_ids:\n",
    "                new_corpus.append(corpus[ir[0]])\n",
    "new_corpus.append(region_corpus)\n",
    "\n",
    "tfidf_model = gensim.models.TfidfModel(new_corpus)\n",
    "tfidf_corpus = tfidf_model[new_corpus]\n",
    "\n",
    "mod_region_corpus = tfidf_corpus[-1]"
   ]
  },
  {
   "cell_type": "code",
   "execution_count": 15,
   "metadata": {
    "collapsed": false,
    "deletable": true,
    "editable": true
   },
   "outputs": [],
   "source": [
    "# THRESHOLD FOR MOST CHARACTRISTIC IONS\n",
    "t = 0.00005\n",
    "# NUMBER OF MOST CHARACTRISTIC IONS\n",
    "n = 100\n",
    "\n",
    "import pandas as pd\n",
    "ion_df = pd.read_msgpack(sf_file)\n",
    "\n",
    "counter = 0\n",
    "for (ion_id,value) in mod_region_corpus:\n",
    "    if counter == n or value<t: break\n",
    "    counter+=1\n",
    "    print('%s %s: %f' % (ion_df.at[ion_id,'sf'], ion_df.at[ion_id,'adduct'], value))"
   ]
  },
  {
   "cell_type": "code",
   "execution_count": null,
   "metadata": {
    "collapsed": true,
    "deletable": true,
    "editable": true
   },
   "outputs": [],
   "source": []
  }
 ],
 "metadata": {
  "kernelspec": {
   "display_name": "Python 3",
   "language": "python",
   "name": "python3"
  },
  "language_info": {
   "codemirror_mode": {
    "name": "ipython",
    "version": 3
   },
   "file_extension": ".py",
   "mimetype": "text/x-python",
   "name": "python",
   "nbconvert_exporter": "python",
   "pygments_lexer": "ipython3",
   "version": "3.5.2"
  }
 },
 "nbformat": 4,
 "nbformat_minor": 2
}
