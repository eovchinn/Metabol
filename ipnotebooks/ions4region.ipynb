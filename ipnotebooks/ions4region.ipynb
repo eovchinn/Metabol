{
 "cells": [
  {
   "cell_type": "code",
   "execution_count": 2,
   "metadata": {
    "collapsed": false,
    "deletable": true,
    "editable": true
   },
   "outputs": [
    {
     "data": {
      "image/png": "[encoded data removed]",
      "text/plain": [
       "<matplotlib.figure.Figure at 0x7f12fbd98e80>"
      ]
     },
     "metadata": {},
     "output_type": "display_data"
    }
   ],
   "source": [
    "# SET SUMFORMULA NAME, ADDUCT, DATASET for selecting the region\n",
    "sf_name = 'C18H34O4'\n",
    "add_name = '-H'\n",
    "ds_name = 'AstraZeneca//rat testis 65um'\n",
    "\n",
    "# model param : tfidf or lsi\n",
    "model = \"tfidf\"\n",
    "# quantile param\n",
    "q = 90.\n",
    "# ion intensity threshold param (-1 = above quantile)\n",
    "i = 300000\n",
    "\n",
    "import os\n",
    "# base dir\n",
    "base_dir = '/home/katya/Projects/Metabol/'\n",
    "\n",
    "c_file = os.path.join(base_dir,'corpora/pixel_'+model+'.mm')\n",
    "\n",
    "pix_ann_dir = os.path.join(base_dir,'pixel-annotations/45_selected/')\n",
    "\n",
    "sf_file = os.path.join(pix_ann_dir,'sf_df.msgpack')\n",
    "dp_file = os.path.join(pix_ann_dir,'ds_pix_cord.msgpack')\n",
    "dsf_file = os.path.join(pix_ann_dir,'ds_ion_int.msgpack')\n",
    "\n",
    "import sys  \n",
    "sys.path.append(base_dir)\n",
    "\n",
    "import select_region\n",
    "from select_region import sfname2index\n",
    "\n",
    "ion_id = sfname2index(sf_file, sf_name, add_name)\n",
    "\n",
    "from datetime import datetime\n",
    "from select_region import select_region, viz_region\n",
    "\n",
    "pixel_ids = select_region(dsf_file, ds_name, ion_id, q, i)\n",
    "viz_region(dp_file, pixel_ids, ds_name, sf_name+' '+add_name, None)"
   ]
  },
  {
   "cell_type": "code",
   "execution_count": 3,
   "metadata": {
    "collapsed": false,
    "deletable": true,
    "editable": true
   },
   "outputs": [
    {
     "name": "stdout",
     "output_type": "stream",
     "text": [
      "1165\n"
     ]
    }
   ],
   "source": [
    "import gensim\n",
    "from gensim import corpora\n",
    "import numpy\n",
    "\n",
    "corpus = gensim.corpora.MmCorpus(c_file)\n",
    "\n",
    "ions2values = {}\n",
    "for pix_id in pixel_ids:\n",
    "    for (ion_id,value) in corpus[pix_id]:\n",
    "        if not ion_id in ions2values: ions2values[ion_id] = []\n",
    "        ions2values[ion_id].append(value)\n",
    "\n",
    "ions2average = []\n",
    "for ion_id in ions2values:\n",
    "    for i in range(0, len(pixel_ids) - len(ions2values[ion_id])): ions2values[ion_id].append(0)\n",
    "    ions2average.append((ion_id, numpy.mean(ions2values[ion_id])))\n",
    "ions2average.sort(key=lambda x: x[1],reverse=True)"
   ]
  },
  {
   "cell_type": "code",
   "execution_count": 8,
   "metadata": {
    "collapsed": false,
    "deletable": true,
    "editable": true
   },
   "outputs": [
    {
     "name": "stdout",
     "output_type": "stream",
     "text": [
      "C22H34O2 -H: 0.503503\n",
      "C25H40O4 +Cl: 0.261874\n",
      "C16H32O2 -H: 0.234683\n",
      "C18H34O4 -H: 0.233086\n",
      "C18H36O2 -H: 0.203565\n",
      "C24H38O2 -H: 0.138094\n",
      "C18H34O2 -H: 0.116761\n",
      "C40H80N2O6P +Cl: 0.109379\n",
      "C47H83O13P -H: 0.106965\n",
      "C20H32O2 -H: 0.104638\n",
      "C22H36O2 -H: 0.104279\n",
      "C13H25NO3 -H: 0.102096\n",
      "C17H28O3S -H: 0.101567\n",
      "C18H30O3S -H: 0.100347\n",
      "C34H67NO3 +Cl: 0.099911\n",
      "C24H40O2 -H: 0.097225\n",
      "C28H46O2 -H: 0.093795\n",
      "C41H74NO8P -H: 0.093147\n",
      "C22H42O2 -H: 0.078669\n",
      "C41H70O5 +Cl: 0.076148\n",
      "C27H44O4 +Cl: 0.071914\n",
      "C43H78NO7P -H: 0.068941\n",
      "C44H80NO8P +Cl: 0.068466\n",
      "C47H72O5 +Cl: 0.064921\n",
      "C44H76NO10P -H: 0.063159\n",
      "C36H71NO3 +Cl: 0.059895\n",
      "C43H76NO7P -H: 0.058275\n",
      "C43H76NO8P -H: 0.056272\n",
      "C46H82NO8P +Cl: 0.051231\n",
      "C48H76NO10P -H: 0.050311\n",
      "C18H36O3 -H: 0.046779\n",
      "C18H32O2 -H: 0.043841\n",
      "C25H42O4 +Cl: 0.041813\n",
      "C45H79O13P -H: 0.041591\n",
      "C43H78NO8P -H: 0.039906\n",
      "C42H82NO8P +Cl: 0.039047\n",
      "C26H42O2 -H: 0.037508\n",
      "C30H50O2 -H: 0.036860\n",
      "C41H79O13P -H: 0.036529\n",
      "C23H38O4 +Cl: 0.035033\n",
      "C41H74NO7P -H: 0.034488\n",
      "C43H72O5 +Cl: 0.034336\n",
      "C42H74NO10P -H: 0.029311\n",
      "C44H78NO10P -H: 0.028848\n",
      "C42H83NO3 +Cl: 0.028078\n",
      "C15H22O2 -H: 0.027983\n",
      "C37H70O5 +Cl: 0.026753\n",
      "C27H46O4 +Cl: 0.026320\n",
      "C40H79O10P -H: 0.026111\n",
      "C21H40O4 +Cl: 0.024445\n",
      "C22H32O2 -H: 0.023694\n",
      "C11H18N2O3 -H: 0.023670\n",
      "C22H34O2 +Cl: 0.023581\n",
      "C20H39NO -H: 0.023242\n",
      "C21H38O4 +Cl: 0.022757\n",
      "C46H80NO10P -H: 0.022533\n",
      "C20H34O2 -H: 0.022359\n",
      "C47H81O13P -H: 0.021383\n",
      "C26H44O2 -H: 0.021018\n",
      "C36H68O6 -H: 0.020386\n",
      "C52H90O7 -H: 0.019704\n",
      "C42H81NO3 +Cl: 0.019249\n",
      "C43H74O5 +Cl: 0.017855\n",
      "C39H68O5 +Cl: 0.017742\n",
      "C20H38O2 -H: 0.017529\n",
      "C45H80NO7P -H: 0.017005\n",
      "C42H80NO10P -H: 0.016974\n",
      "C18H32O3 -H: 0.016567\n",
      "C38H75NO3 -H: 0.016277\n",
      "C47H74O5 +Cl: 0.015945\n",
      "C39H79N2O6P +Cl: 0.015201\n",
      "C45H82NO7P -H: 0.014547\n",
      "C41H72O5 +Cl: 0.014333\n",
      "C35H68O5 +Cl: 0.014331\n",
      "C16H30O2 -H: 0.014311\n",
      "C19H34O3 -H: 0.013786\n",
      "C49H85O13P -H: 0.013711\n",
      "C46H84NO7P +Cl: 0.013095\n",
      "C21H44NO6P -H: 0.012998\n",
      "C43H83O13P -H: 0.012991\n",
      "C38H75O10P -H: 0.012812\n",
      "C38H66O4 -H: 0.012445\n",
      "C40H76NO10P -H: 0.012297\n",
      "C40H80NO8P +Cl: 0.012169\n",
      "C36H69NO3 +Cl: 0.012109\n",
      "C11H21NO3 -H: 0.012008\n",
      "C12H23NO3 -H: 0.011848\n",
      "C39H70O5 +Cl: 0.011780\n",
      "C45H78NO8P -H: 0.011296\n",
      "C46H84O5 +Cl: 0.011251\n",
      "C39H76NO7P -H: 0.011206\n",
      "C45H80NO8P -H: 0.010837\n",
      "C21H26N2O2 -H: 0.010747\n",
      "C14H28O2 -H: 0.010680\n",
      "C6H12O6 +Cl: 0.010646\n",
      "C37H68O5 +Cl: 0.010593\n",
      "C45H70O5 +Cl: 0.010555\n",
      "C40H79NO3 +Cl: 0.010243\n",
      "C43H74NO7P -H: 0.010144\n",
      "C40H79NO3 -H: 0.009924\n"
     ]
    }
   ],
   "source": [
    "# THRESHOLD FOR MOST CHARACTRISTIC IONS\n",
    "t = 0.005\n",
    "# NUMBER OF MOST CHARACTRISTIC IONS\n",
    "n = 100\n",
    "\n",
    "import pandas as pd\n",
    "ion_df = pd.read_msgpack(sf_file)\n",
    "\n",
    "counter = 0\n",
    "for (ion_id,value) in ions2average:\n",
    "    if counter == n or value<t: break\n",
    "    counter+=1\n",
    "    print('%s %s: %f' % (ion_df.at[ion_id,'sf'], ion_df.at[ion_id,'adduct'], value))"
   ]
  },
  {
   "cell_type": "code",
   "execution_count": null,
   "metadata": {
    "collapsed": true
   },
   "outputs": [],
   "source": []
  }
 ],
 "metadata": {
  "kernelspec": {
   "display_name": "Python 3",
   "language": "python",
   "name": "python3"
  },
  "language_info": {
   "codemirror_mode": {
    "name": "ipython",
    "version": 3
   },
   "file_extension": ".py",
   "mimetype": "text/x-python",
   "name": "python",
   "nbconvert_exporter": "python",
   "pygments_lexer": "ipython3",
   "version": "3.5.2"
  }
 },
 "nbformat": 4,
 "nbformat_minor": 2
}
