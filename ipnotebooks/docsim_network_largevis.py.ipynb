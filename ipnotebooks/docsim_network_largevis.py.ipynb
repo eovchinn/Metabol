{
 "cells": [
  {
   "cell_type": "code",
   "execution_count": 28,
   "metadata": {
    "collapsed": false
   },
   "outputs": [],
   "source": [
    "lv_2d_file = '/home/katya/Projects/Metabol/LargeVis/dataset_tfidf_sim_2D.lv'\n",
    "metadata_file = '/home/katya/Dropbox/metabolite annotation/170426 all .8 0 .8/Dnodes.csv'\n",
    "metadata_column_range = (7,20)\n",
    "ds_names = '/home/katya/Projects/Metabol/doc_ids.txt'\n",
    "\n",
    "# load ds names\n",
    "import pickle\n",
    "with open(ds_names, 'rb') as f: doc_ids = pickle.load(f)\n",
    "\n",
    "# load metadata\n",
    "metadata = []\n",
    "for i, line in enumerate(open(metadata_file)):\n",
    "    vec = line.strip().split(',')\n",
    "    if i == 0:\n",
    "        mnames = vec[metadata_column_range[0]:metadata_column_range[1]+1]\n",
    "    else:\n",
    "        metadata.append(vec[metadata_column_range[0]:metadata_column_range[1]+1])\n",
    "\n",
    "cord_met_data = []\n",
    "for i, line in enumerate(open(lv_2d_file)):\n",
    "    vec = line.strip().split(' ')\n",
    "    if i == 0:\n",
    "        N = int(vec[0])\n",
    "        M = int(vec[1])\n",
    "    elif i <= N:\n",
    "        cord_met_data.append([float(vec[-2]), float(vec[-1])] + metadata[i])\n",
    "metadata = []\n",
    "\n",
    "import pandas as pd\n",
    "columns = ['x','y'] + mnames\n",
    "plot_data = pd.DataFrame(cord_met_data,columns=columns)\n",
    "cord_met_data = []\n",
    "\n",
    "#Sample_Information.Organism\n",
    "#print(plot_data['Sample_Information.Organism_Part'].astype('category'))"
   ]
  },
  {
   "cell_type": "code",
   "execution_count": 29,
   "metadata": {
    "collapsed": false,
    "scrolled": true
   },
   "outputs": [
    {
     "name": "stdout",
     "output_type": "stream",
     "text": [
      "High five! You successfuly sent some data to your account on plotly. View your plot in your browser at https://plot.ly/~eovchinn/0 or inside your plot.ly account where it is named 'basic-scatter'\n"
     ]
    },
    {
     "data": {
      "text/html": [
       "<iframe id=\"igraph\" scrolling=\"no\" style=\"border:none;\" seamless=\"seamless\" src=\"https://plot.ly/~eovchinn/0.embed\" height=\"525px\" width=\"100%\"></iframe>"
      ],
      "text/plain": [
       "<plotly.tools.PlotlyDisplay object>"
      ]
     },
     "execution_count": 29,
     "metadata": {},
     "output_type": "execute_result"
    }
   ],
   "source": [
    "import plotly\n",
    "import plotly.plotly as py\n",
    "import plotly.graph_objs as go\n",
    "import random\n",
    "\n",
    "plotly.tools.set_credentials_file(username='eovchinn', api_key='hM44KtkqNK1zUI96Pp7z')\n",
    "\n",
    "# create colormap\n",
    "cat = 'Sample_Information.Organism_Part'\n",
    "unique_values = plot_data[cat].unique().tolist()\n",
    "\n",
    "colors = []\n",
    "for i in range(0,len(unique_values )):\n",
    "    colors.append('%06X' % random.randint(0, 0xFFFFFF))\n",
    "\n",
    "trace = go.Scatter(\n",
    "    x = plot_data['x'].tolist(),\n",
    "    y = plot_data['y'].tolist(),\n",
    "    mode = 'markers',\n",
    "    marker = dict(color = []),\n",
    "    text = doc_ids\n",
    ")\n",
    "\n",
    "for row in plot_data.iterrows():\n",
    "    #print(row[1][cat])\n",
    "    c = colors[unique_values.index(row[1][cat])]\n",
    "    trace.marker.color.append(c)\n",
    "    #trace.text.append(row[1][cat])\n",
    "\n",
    "data = [trace]\n",
    "\n",
    "py.iplot(data, filename='basic-scatter')"
   ]
  },
  {
   "cell_type": "code",
   "execution_count": 46,
   "metadata": {
    "collapsed": false
   },
   "outputs": [
    {
     "data": {
      "image/png": "[encoded data removed]",
      "text/plain": [
       "<xarray.Image (y_axis: 100, x_axis: 500)>\n",
       "array([[4278190080, 4278190080, 4278190080, ..., 4278190080, 4278190080,\n",
       "        4278190080],\n",
       "       [4278190080, 4278190080, 4278190080, ..., 4278190080, 4278190080,\n",
       "        4278190080],\n",
       "       [4278190080, 4278190080, 4278190080, ..., 4278190080, 4278190080,\n",
       "        4278190080],\n",
       "       ..., \n",
       "       [4293980400, 4278190080, 4278190080, ..., 4278190080, 4278190080,\n",
       "        4278190080],\n",
       "       [4278190080, 4278190080, 4278190080, ..., 4278190080, 4278190080,\n",
       "        4278190080],\n",
       "       [4278190080, 4278190080, 4278190080, ..., 4278190080, 4278190080,\n",
       "        4278190080]], dtype=uint32)\n",
       "Coordinates:\n",
       "  * y_axis   (y_axis) float64 -0.02618 4.648 9.323 14.0 18.67 23.35 28.02 ...\n",
       "  * x_axis   (x_axis) float64 -22.72 -22.67 -22.63 -22.58 -22.53 -22.49 ..."
      ]
     },
     "execution_count": 46,
     "metadata": {},
     "output_type": "execute_result"
    }
   ],
   "source": [
    "# this is critical. Datashader depends on defining an image of a specified size in pixels\n",
    "plot_width  = int(500)\n",
    "plot_height = int(100)\n",
    "background = \"black\"\n",
    "\n",
    "import datashader as ds\n",
    "import datashader.transfer_functions as tf\n",
    "from functools import partial\n",
    "from datashader.utils import export_image\n",
    "from datashader.colors import colormap_select, Greys9, Hot, viridis, inferno\n",
    "from IPython.core.display import HTML, display\n",
    "import numpy as np\n",
    "from seaborn import color_palette,palplot\n",
    "\n",
    "# this function actually generates the datashader image \n",
    "export = partial(export_image, background = background, export_path=\"export\")\n",
    "\n",
    "cvs = ds.Canvas(plot_width=plot_width, plot_height=plot_height)\n",
    "agg = cvs.points(plot_data, 'x', 'y')\n",
    "\n",
    "export(tf.shade(agg, cmap = cm(Greys9), how='eq_hist'),'tempfile')"
   ]
  },
  {
   "cell_type": "code",
   "execution_count": 40,
   "metadata": {
    "collapsed": true
   },
   "outputs": [],
   "source": [
    "# `cat` specifies which categorical column we want to color by\n",
    "def create_image(w=plot_width, h=plot_height,cat=None,color_key=None):\n",
    "    df = plot_data\n",
    "    # now that we've done our sampling we can convert the column to a category type\n",
    "    df[cat] = df[cat].astype('category')\n",
    "    # unless we explicitly pass a {category:color} dictionary, generate the color map\n",
    "    if color_key is None:\n",
    "        unique_values = df[cat].unique()\n",
    "        # this is s kludge to handle the fact that some plotting libraries don't handle seaborn color paletes well (just converting to hex color names)\n",
    "        colors = ['#%02x%02x%02x' % (a, b, c) for a,b,c in np.round(255*np.array(color_palette('Set1',n_colors=len(unique_values)))).astype(int)]\n",
    "        # use matplotlib to draw a legend\n",
    "        #keyplot(colors,unique_values)\n",
    "        color_key = {val:color for val,color in zip(unique_values,colors)}   \n",
    "                \n",
    "    # now the plotting command is the sameas above, except we use a `color_key` arugment to tell datashader how to color each point\n",
    "    cvs = ds.Canvas(plot_width=w, plot_height=h)\n",
    "    agg = cvs.points(df, 'x', 'y')\n",
    "    img = tf.shade(agg, color_key=color_key, how='eq_hist')\n",
    "    return img"
   ]
  },
  {
   "cell_type": "code",
   "execution_count": 41,
   "metadata": {
    "collapsed": false
   },
   "outputs": [
    {
     "data": {
      "image/png": "[encoded data removed]",
      "text/plain": [
       "<xarray.Image (y_axis: 500, x_axis: 500)>\n",
       "array([[4278190080, 4278190080, 4278190080, ..., 4278190080, 4278190080,\n",
       "        4278190080],\n",
       "       [4278190080, 4278190080, 4278190080, ..., 4278190080, 4278190080,\n",
       "        4278190080],\n",
       "       [4278190080, 4278190080, 4278190080, ..., 4278190080, 4278190080,\n",
       "        4278190080],\n",
       "       ..., \n",
       "       [4278190080, 4278190080, 4278190080, ..., 4278190080, 4278190080,\n",
       "        4278190080],\n",
       "       [4278190080, 4278190080, 4278190080, ..., 4278190080, 4278190080,\n",
       "        4278190080],\n",
       "       [4278190080, 4278190080, 4278190080, ..., 4278190080, 4278190080,\n",
       "        4278190080]], dtype=uint32)\n",
       "Coordinates:\n",
       "  * y_axis   (y_axis) float64 -0.02618 0.9087 1.844 2.779 3.713 4.648 5.583 ...\n",
       "  * x_axis   (x_axis) float64 -22.72 -22.67 -22.63 -22.58 -22.53 -22.49 ..."
      ]
     },
     "execution_count": 41,
     "metadata": {},
     "output_type": "execute_result"
    }
   ],
   "source": [
    "export(create_image(cat='Sample_Information.Organism_Part'),'tempfile')"
   ]
  },
  {
   "cell_type": "code",
   "execution_count": null,
   "metadata": {
    "collapsed": true
   },
   "outputs": [],
   "source": []
  }
 ],
 "metadata": {
  "kernelspec": {
   "display_name": "Python 3",
   "language": "python",
   "name": "python3"
  },
  "language_info": {
   "codemirror_mode": {
    "name": "ipython",
    "version": 3
   },
   "file_extension": ".py",
   "mimetype": "text/x-python",
   "name": "python",
   "nbconvert_exporter": "python",
   "pygments_lexer": "ipython3",
   "version": "3.5.2"
  }
 },
 "nbformat": 4,
 "nbformat_minor": 2
}
