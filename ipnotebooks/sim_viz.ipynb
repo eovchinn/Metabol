{
 "cells": [
  {
   "cell_type": "code",
   "execution_count": 12,
   "metadata": {
    "collapsed": false,
    "deletable": true,
    "editable": true
   },
   "outputs": [
    {
     "name": "stdout",
     "output_type": "stream",
     "text": [
      "4      {'metaspace_options': {'Alpha-tester': True, '...\n",
      "7      {'metaspace_options': {'Alpha-tester': True, '...\n",
      "15     {'metaspace_options': {'Metabolite_Database': ...\n",
      "90     {'metaspace_options': {'Metabolite_Database': ...\n",
      "97     {'metaspace_options': {'Metabolite_Database': ...\n",
      "103    {'metaspace_options': {'Metabolite_Database': ...\n",
      "104    {'metaspace_options': {'Metabolite_Database': ...\n",
      "116    {'metaspace_options': {'Metabolite_Database': ...\n",
      "180    {'Additional_Information': {'Expected_Molecule...\n",
      "182    {'Additional_Information': {'Expected_Molecule...\n",
      "184    {'Additional_Information': {'Additional_Inform...\n",
      "185    {'Additional_Information': {'Additional_Inform...\n",
      "186    {'Additional_Information': {'Expected_Molecule...\n",
      "192    {'Additional_Information': {'Expected_Molecule...\n",
      "195    {'Additional_Information': {'Expected_Molecule...\n",
      "196    {'Additional_Information': {'Expected_Molecule...\n",
      "199    {'Additional_Information': {}, 'metaspace_opti...\n",
      "201    {'Additional_Information': {}, 'metaspace_opti...\n",
      "206    {'Additional_Information': {'Additional_Inform...\n",
      "250    {'Additional_Information': {'Additional_Inform...\n",
      "251    {'Additional_Information': {'Additional_Inform...\n",
      "387    {'Additional_Information': {'Additional_Inform...\n",
      "407    {'Additional_Information': {'Additional_Inform...\n",
      "414    {'Additional_Information': {'Additional_Inform...\n",
      "430    {'Additional_Information': {'Additional_Inform...\n",
      "431    {'Additional_Information': {'Additional_Inform...\n",
      "519    {'Additional_Information': {'Additional_Inform...\n",
      "695    {'Additional_Information': {'Sample_Descriptio...\n",
      "823    {'metaspace_options': {'Alpha-tester': True, '...\n",
      "824    {'metaspace_options': {'Alpha-tester': True, '...\n",
      "826    {'metaspace_options': {'Alpha-tester': True, '...\n",
      "828    {'metaspace_options': {'Alpha-tester': True, '...\n",
      "830    {'metaspace_options': {'Alpha-tester': True, '...\n",
      "832    {'metaspace_options': {'Alpha-tester': True, '...\n",
      "833    {'metaspace_options': {'Alpha-tester': True, '...\n",
      "836    {'metaspace_options': {'Alpha-tester': True, '...\n",
      "873    {'Additional_Information': {'Expected_Molecule...\n",
      "874    {'Additional_Information': {'Expected_Molecule...\n",
      "875    {'Additional_Information': {'Sample_Descriptio...\n",
      "903    {'Additional_Information': {'Publication_DOI':...\n",
      "916    {'Additional_Information': {}, 'metaspace_opti...\n",
      "932    {'Additional_Information': {'Publication_DOI':...\n",
      "933    {'Additional_Information': {'Publication_DOI':...\n",
      "939    {'Additional_Information': {}, 'metaspace_opti...\n",
      "940    {'Additional_Information': {}, 'metaspace_opti...\n",
      "Name: meta, dtype: object\n",
      "Coords calculated\n",
      "High five! You successfuly sent some data to your account on plotly. View your plot in your browser at https://plot.ly/~eovchinn/0 or inside your plot.ly account where it is named 'basic-scatter'\n"
     ]
    },
    {
     "data": {
      "text/html": [
       "<iframe id=\"igraph\" scrolling=\"no\" style=\"border:none;\" seamless=\"seamless\" src=\"https://plot.ly/~eovchinn/0.embed\" height=\"525px\" width=\"100%\"></iframe>"
      ],
      "text/plain": [
       "<plotly.tools.PlotlyDisplay object>"
      ]
     },
     "execution_count": 12,
     "metadata": {},
     "output_type": "execute_result"
    }
   ],
   "source": [
    "import plotly\n",
    "import plotly.plotly as py\n",
    "import plotly.graph_objs as go\n",
    "\n",
    "import numpy as np\n",
    "import pickle\n",
    "from sklearn import manifold\n",
    "\n",
    "import csv\n",
    "\n",
    "plotly.tools.set_credentials_file(username='eovchinn', api_key='hM44KtkqNK1zUI96Pp7z')\n",
    "\n",
    "sim_matrix_path = '/home/katya/Projects/Metabol/doc_similarity_matrices/tfidfsim.pkl'\n",
    "with open(sim_matrix_path, 'rb') as f:\n",
    "    sim_matrix = pickle.load(f)\n",
    "    \n",
    "doc_ids_path = '/home/katya/Projects/Metabol/doc_ids.txt'\n",
    "with open(doc_ids_path, 'rb') as f:\n",
    "    doc_ids = pickle.load(f)\n",
    "\n",
    "groups_path = '/home/katya/Dropbox/metabolite\\ annotation/170320\\ all\\ .8\\ 0\\ .8/datasets_groups_AUTO.csv'\n",
    "groups = {}\n",
    "counter = 0\n",
    "with open(pa.i, 'r') as csvfile:\n",
    "    rowreader = csv.reader(csvfile, delimiter=',')\n",
    "    for row in rowreader:\n",
    "        if counter == 0:\n",
    "            #group_names = row[1:]\n",
    "            continue\n",
    "        else:\n",
    "            for i in range(1,len(row)):\n",
    "                if row[i] == '1':\n",
    "                    if not group_names[i-1] in groups: groups[group_names[i-1]] = []\n",
    "\t\t\t\t\t\tgroups[group_names[i-1]].append(doc_ids.index(row[0]))\n",
    "        counter += 1\n",
    "\n",
    "    \n",
    "dist_matrix = np.subtract(np.ones((sim_matrix.shape[0], sim_matrix.shape[0])),sim_matrix) \n",
    "\n",
    "mds = manifold.MDS(n_components=2, dissimilarity=\"precomputed\", n_jobs=4)\n",
    "results = mds.fit(dist_matrix)\n",
    "coords = results.embedding_\n",
    "\n",
    "print('Coords calculated')\n",
    "\n",
    "trace = go.Scatter(\n",
    "    x = [],\n",
    "    y = [],\n",
    "    mode = 'markers'\n",
    ")\n",
    "\n",
    "ds_counter = 0\n",
    "for (x,y) in coords:\n",
    "        trace['x'].append(x)\n",
    "        trace['y'].append(y)\n",
    "        \n",
    "        ds_counter += 1\n",
    "trace['text'] = doc_ids\n",
    "        \n",
    "data = [trace]\n",
    "\n",
    "py.iplot(data, filename='basic-scatter')\n"
   ]
  },
  {
   "cell_type": "code",
   "execution_count": null,
   "metadata": {
    "collapsed": true,
    "deletable": true,
    "editable": true
   },
   "outputs": [],
   "source": []
  },
  {
   "cell_type": "code",
   "execution_count": null,
   "metadata": {
    "collapsed": true,
    "deletable": true,
    "editable": true
   },
   "outputs": [],
   "source": []
  }
 ],
 "metadata": {
  "kernelspec": {
   "display_name": "Python 3",
   "language": "python",
   "name": "python3"
  },
  "language_info": {
   "codemirror_mode": {
    "name": "ipython",
    "version": 3
   },
   "file_extension": ".py",
   "mimetype": "text/x-python",
   "name": "python",
   "nbconvert_exporter": "python",
   "pygments_lexer": "ipython3",
   "version": "3.5.2"
  }
 },
 "nbformat": 4,
 "nbformat_minor": 2
}
